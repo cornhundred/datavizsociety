{
 "cells": [
  {
   "cell_type": "code",
   "execution_count": 10,
   "metadata": {},
   "outputs": [],
   "source": [
    "import pandas as pd\n",
    "import numpy as np"
   ]
  },
  {
   "cell_type": "code",
   "execution_count": 12,
   "metadata": {},
   "outputs": [
    {
     "name": "stdout",
     "output_type": "stream",
     "text": [
      "clustergrammer2 backend version 0.2.9\n"
     ]
    }
   ],
   "source": [
    "from clustergrammer2 import net\n",
    "df = {}"
   ]
  },
  {
   "cell_type": "code",
   "execution_count": 13,
   "metadata": {},
   "outputs": [],
   "source": [
    "df['ini'] = pd.read_csv('../challenge_data/dvs_challenge_1_membership_time_space.csv')"
   ]
  },
  {
   "cell_type": "code",
   "execution_count": 17,
   "metadata": {},
   "outputs": [
    {
     "data": {
      "text/html": [
       "<div>\n",
       "<style scoped>\n",
       "    .dataframe tbody tr th:only-of-type {\n",
       "        vertical-align: middle;\n",
       "    }\n",
       "\n",
       "    .dataframe tbody tr th {\n",
       "        vertical-align: top;\n",
       "    }\n",
       "\n",
       "    .dataframe thead th {\n",
       "        text-align: right;\n",
       "    }\n",
       "</style>\n",
       "<table border=\"1\" class=\"dataframe\">\n",
       "  <thead>\n",
       "    <tr style=\"text-align: right;\">\n",
       "      <th></th>\n",
       "      <th>lat</th>\n",
       "      <th>long</th>\n",
       "      <th>data</th>\n",
       "      <th>visualization</th>\n",
       "      <th>society</th>\n",
       "      <th>date_with_hour</th>\n",
       "      <th>date</th>\n",
       "      <th>hour</th>\n",
       "    </tr>\n",
       "  </thead>\n",
       "  <tbody>\n",
       "    <tr>\n",
       "      <th>0</th>\n",
       "      <td>19.075984</td>\n",
       "      <td>72.877656</td>\n",
       "      <td>3.666667</td>\n",
       "      <td>3.333333</td>\n",
       "      <td>2.666667</td>\n",
       "      <td>2/20/2019 12</td>\n",
       "      <td>2/20/2019</td>\n",
       "      <td>12</td>\n",
       "    </tr>\n",
       "    <tr>\n",
       "      <th>1</th>\n",
       "      <td>43.653226</td>\n",
       "      <td>-79.383184</td>\n",
       "      <td>3.333333</td>\n",
       "      <td>3.000000</td>\n",
       "      <td>3.333333</td>\n",
       "      <td>2/20/2019 12</td>\n",
       "      <td>2/20/2019</td>\n",
       "      <td>12</td>\n",
       "    </tr>\n",
       "    <tr>\n",
       "      <th>2</th>\n",
       "      <td>39.739236</td>\n",
       "      <td>-104.990251</td>\n",
       "      <td>3.000000</td>\n",
       "      <td>1.666667</td>\n",
       "      <td>1.666667</td>\n",
       "      <td>2/20/2019 12</td>\n",
       "      <td>2/20/2019</td>\n",
       "      <td>12</td>\n",
       "    </tr>\n",
       "    <tr>\n",
       "      <th>3</th>\n",
       "      <td>60.169856</td>\n",
       "      <td>24.938379</td>\n",
       "      <td>2.000000</td>\n",
       "      <td>3.666667</td>\n",
       "      <td>2.333333</td>\n",
       "      <td>2/20/2019 12</td>\n",
       "      <td>2/20/2019</td>\n",
       "      <td>12</td>\n",
       "    </tr>\n",
       "    <tr>\n",
       "      <th>4</th>\n",
       "      <td>38.907192</td>\n",
       "      <td>-77.036871</td>\n",
       "      <td>2.333333</td>\n",
       "      <td>4.000000</td>\n",
       "      <td>2.666667</td>\n",
       "      <td>2/20/2019 12</td>\n",
       "      <td>2/20/2019</td>\n",
       "      <td>12</td>\n",
       "    </tr>\n",
       "  </tbody>\n",
       "</table>\n",
       "</div>"
      ],
      "text/plain": [
       "         lat        long      data  visualization   society date_with_hour  \\\n",
       "0  19.075984   72.877656  3.666667       3.333333  2.666667   2/20/2019 12   \n",
       "1  43.653226  -79.383184  3.333333       3.000000  3.333333   2/20/2019 12   \n",
       "2  39.739236 -104.990251  3.000000       1.666667  1.666667   2/20/2019 12   \n",
       "3  60.169856   24.938379  2.000000       3.666667  2.333333   2/20/2019 12   \n",
       "4  38.907192  -77.036871  2.333333       4.000000  2.666667   2/20/2019 12   \n",
       "\n",
       "        date  hour  \n",
       "0  2/20/2019    12  \n",
       "1  2/20/2019    12  \n",
       "2  2/20/2019    12  \n",
       "3  2/20/2019    12  \n",
       "4  2/20/2019    12  "
      ]
     },
     "execution_count": 17,
     "metadata": {},
     "output_type": "execute_result"
    }
   ],
   "source": [
    "df['ini'].head()"
   ]
  },
  {
   "cell_type": "code",
   "execution_count": null,
   "metadata": {
    "scrolled": false
   },
   "outputs": [
    {
     "name": "stderr",
     "output_type": "stream",
     "text": [
      "/Users/nickfernandez/anaconda3/envs/py36lab/lib/python3.6/site-packages/ipykernel_launcher.py:10: DeprecationWarning: Unable to parse the string as Point: \"Failed to create Point instance from string: unknown format.\". Using the value as-is for the query. In geopy 2.0 this will become an exception.\n",
      "  # Remove the CWD from sys.path while we load stuff.\n"
     ]
    },
    {
     "name": "stdout",
     "output_type": "stream",
     "text": [
      "error 52\n",
      "error 60\n",
      "error 84\n",
      "error 258\n"
     ]
    }
   ],
   "source": [
    "loc_dict = {}\n",
    "for inst_row in df['ini'].index.tolist():\n",
    "    \n",
    "    inst_data = df['ini'].loc[inst_row]\n",
    "    inst_lat = inst_data['lat']\n",
    "    inst_lng = inst_data['long']\n",
    "    \n",
    "    string = str(inst_lat) + ', ' +str(inst_lng)\n",
    "    try: \n",
    "        location = geolocator.reverse(string, language=language)\n",
    "\n",
    "        loc_dict[inst_row] = location\n",
    "    except: \n",
    "        print('error', inst_row)"
   ]
  },
  {
   "cell_type": "code",
   "execution_count": null,
   "metadata": {},
   "outputs": [],
   "source": []
  },
  {
   "cell_type": "code",
   "execution_count": 27,
   "metadata": {},
   "outputs": [
    {
     "data": {
      "text/plain": [
       "8"
      ]
     },
     "execution_count": 27,
     "metadata": {},
     "output_type": "execute_result"
    }
   ],
   "source": [
    "len(location[0].split(', '))"
   ]
  },
  {
   "cell_type": "code",
   "execution_count": 1,
   "metadata": {},
   "outputs": [],
   "source": [
    "from geopy.geocoders import Nominatim"
   ]
  },
  {
   "cell_type": "code",
   "execution_count": 9,
   "metadata": {},
   "outputs": [
    {
     "name": "stderr",
     "output_type": "stream",
     "text": [
      "/Users/nickfernandez/anaconda3/envs/py36lab/lib/python3.6/site-packages/ipykernel_launcher.py:4: DeprecationWarning: Using Nominatim with the default \"geopy/1.18.1\" `user_agent` is strongly discouraged, as it violates Nominatim's ToS https://operations.osmfoundation.org/policies/nominatim/ and may possibly cause 403 and 429 HTTP errors. Please specify a custom `user_agent` with `Nominatim(user_agent=\"my-application\")` or by overriding the default `user_agent`: `geopy.geocoders.options.default_user_agent = \"my-application\"`. In geopy 2.0 this will become an exception.\n",
      "  after removing the cwd from sys.path.\n"
     ]
    },
    {
     "data": {
      "text/plain": [
       "Location(Santa Cruz – Chembur Link Road, Hallow Pul, L Ward, Mumbai, Mumbai Suburban, Maharashtra, 400070, India, (19.0758993307114, 72.8776031402563, 0.0))"
      ]
     },
     "execution_count": 9,
     "metadata": {},
     "output_type": "execute_result"
    }
   ],
   "source": [
    "lat = 19.0759837\n",
    "lng = 72.8776559\n",
    "language = 'en'\n",
    "geolocator = Nominatim()\n",
    "\n",
    "string = str(lat) + ', ' +str(lng)\n",
    "location = geolocator.reverse(string, language=language)\n",
    "\n",
    "location\n",
    "\n",
    "# data = location.raw\n",
    "# data = data['address']\n",
    "# address = str(data)\n",
    "\n",
    "# street = district = postalCode= state = country = countryCode = \"\"\n",
    "\n",
    "# district    =str(data['city_district'])\n",
    "# postalCode  =str(data['postcode'])\n",
    "# state       =str(data['state'])\n",
    "# country     =str(data['country'])\n",
    "# countryCode =str(data['country_code']).upper()\n",
    "# address = street +' '+ district  +' '+  postalCode  +' '+  state  +' '+  country  +' '+  countryCode\n"
   ]
  },
  {
   "cell_type": "code",
   "execution_count": null,
   "metadata": {},
   "outputs": [],
   "source": []
  },
  {
   "cell_type": "code",
   "execution_count": null,
   "metadata": {},
   "outputs": [],
   "source": []
  },
  {
   "cell_type": "code",
   "execution_count": null,
   "metadata": {},
   "outputs": [],
   "source": []
  }
 ],
 "metadata": {
  "kernelspec": {
   "display_name": "Python 3",
   "language": "python",
   "name": "python3"
  },
  "language_info": {
   "codemirror_mode": {
    "name": "ipython",
    "version": 3
   },
   "file_extension": ".py",
   "mimetype": "text/x-python",
   "name": "python",
   "nbconvert_exporter": "python",
   "pygments_lexer": "ipython3",
   "version": "3.6.6"
  }
 },
 "nbformat": 4,
 "nbformat_minor": 2
}
